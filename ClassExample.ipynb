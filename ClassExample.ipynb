{
 "cells": [
  {
   "cell_type": "markdown",
   "metadata": {},
   "source": [
    "# Solution to Question 2 in problem sheet 2\n"
   ]
  },
  {
   "cell_type": "markdown",
   "metadata": {},
   "source": [
    "The aim of this exercise was to \n",
    "  * show the basic idea of classes in python \n",
    "  * demonstrate the idea of inheritance (where a class builds on the properties of another)"
   ]
  },
  {
   "cell_type": "code",
   "execution_count": 4,
   "metadata": {
    "collapsed": false
   },
   "outputs": [
    {
     "name": "stdout",
     "output_type": "stream",
     "text": [
      "\n"
     ]
    }
   ],
   "source": [
    "import math\n",
    "\n",
    "##\n",
    "##  2D base class for a point\n",
    "##\n",
    "class G_2Dpoint(object):\n",
    "\n",
    "    def __init__(self, x, y):\n",
    "        self.x = x\n",
    "        self.y = y\n",
    "        self.description = \"2D point\"\n",
    "\n",
    "\n",
    "    def distance(self):\n",
    "        return math.sqrt(self.x**2 + self.y**2) \n",
    "\n",
    "    def write_points(self) :\n",
    "    \tprint \"x = \" , self.x \n",
    "    \tprint \"y = \" , self.y \n",
    "\n",
    "    def info(self):\n",
    "        print \"Information \"\n",
    "        print self.description \n",
    "        self.write_points()\n",
    "        print \"Magnitude = \" , self.distance()\n",
    "\n",
    "\n"
   ]
  },
  {
   "cell_type": "code",
   "execution_count": null,
   "metadata": {
    "collapsed": true
   },
   "outputs": [],
   "source": []
  },
  {
   "cell_type": "code",
   "execution_count": 5,
   "metadata": {
    "collapsed": true
   },
   "outputs": [],
   "source": [
    "##\n",
    "##  3D class for a point\n",
    "##  The class inherits from the G_2Dpoint class.\n",
    "##\n",
    "\n",
    "class G_3Dpoint(G_2Dpoint):\n",
    "    def __init__(self, x, y, z):\n",
    "        super(G_3Dpoint, self).__init__(x,y)\n",
    "        self.z = z\n",
    "        self.description = \"3D point\"\n",
    "\n",
    "    def distance(self):\n",
    "        return math.sqrt(self.x**2 + self.y**2 + self.z**2) \n",
    "\n",
    "    def write_points(self) :\n",
    "    \tprint \"x = \" , self.x \n",
    "    \tprint \"y = \" , self.y \n",
    "    \tprint \"z = \" , self.z\n"
   ]
  },
  {
   "cell_type": "code",
   "execution_count": 6,
   "metadata": {
    "collapsed": false
   },
   "outputs": [
    {
     "name": "stdout",
     "output_type": "stream",
     "text": [
      "Information \n",
      "2D point\n",
      "x =  3\n",
      "y =  4\n",
      "Magnitude =  5.0\n",
      "Now three dimensions\n",
      "Information \n",
      "3D point\n",
      "x =  3\n",
      "y =  4\n",
      "z =  5\n",
      "Magnitude =  7.07106781187\n"
     ]
    }
   ],
   "source": [
    "##\n",
    "##  Now use the classes ro create objects\n",
    "##\n",
    "\n",
    "two = G_2Dpoint(3,4)\n",
    "two.info()\n",
    "\n",
    "print \"Now three dimensions\"\n",
    "three = G_3Dpoint(3,4,5) \n",
    "\n",
    "three.info()\n"
   ]
  },
  {
   "cell_type": "code",
   "execution_count": null,
   "metadata": {
    "collapsed": true
   },
   "outputs": [],
   "source": []
  },
  {
   "cell_type": "code",
   "execution_count": null,
   "metadata": {
    "collapsed": true
   },
   "outputs": [],
   "source": []
  }
 ],
 "metadata": {
  "anaconda-cloud": {},
  "kernelspec": {
   "display_name": "Python [Root]",
   "language": "python",
   "name": "Python [Root]"
  },
  "language_info": {
   "codemirror_mode": {
    "name": "ipython",
    "version": 2
   },
   "file_extension": ".py",
   "mimetype": "text/x-python",
   "name": "python",
   "nbconvert_exporter": "python",
   "pygments_lexer": "ipython2",
   "version": "2.7.12"
  }
 },
 "nbformat": 4,
 "nbformat_minor": 0
}
