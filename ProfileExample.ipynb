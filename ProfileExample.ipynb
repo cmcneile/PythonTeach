{
 "cells": [
  {
   "cell_type": "markdown",
   "metadata": {},
   "source": [
    "# An example of profiling \n",
    "Use a \"fake\"  example of two functions. One function does a factorization of a number into prime factors. \n",
    "The other function does a big loop and takes the square root of a long set of numbers"
   ]
  },
  {
   "cell_type": "code",
   "execution_count": 2,
   "metadata": {
    "collapsed": false
   },
   "outputs": [],
   "source": [
    "import sys\n",
    "from math import sqrt\n",
    "\n",
    "error = 'fact.error'        "
   ]
  },
  {
   "cell_type": "code",
   "execution_count": 3,
   "metadata": {
    "collapsed": true
   },
   "outputs": [],
   "source": [
    "def fact(n):\n",
    "    if n < 1: raise error    \n",
    "    if n == 1: return []    \n",
    "    res = []\n",
    "    while n%2 == 0:\n",
    "        res.append(2)\n",
    "        n = n/2\n",
    "    limit = sqrt(float(n+1))\n",
    "    i = 3\n",
    "    while i <= limit:\n",
    "        if n%i == 0:\n",
    "            res.append(i)\n",
    "            n = n/i\n",
    "            limit = sqrt(n+1)\n",
    "        else:\n",
    "            i = i+2\n",
    "    if n != 1:\n",
    "        res.append(n)\n",
    "    return res\n"
   ]
  },
  {
   "cell_type": "code",
   "execution_count": 4,
   "metadata": {
    "collapsed": true
   },
   "outputs": [],
   "source": [
    "#  A fake function\n",
    "#\n",
    "#\n",
    "def count():\n",
    "    from math import sqrt\n",
    "    for x in range(5*10**5):\n",
    "        sqrt(x)"
   ]
  },
  {
   "cell_type": "code",
   "execution_count": 5,
   "metadata": {
    "collapsed": true
   },
   "outputs": [],
   "source": [
    "def main():\n",
    "  count()\n",
    "  n = 100673673673739088\n",
    "  print n, fact(n)\n",
    " \n",
    "\n",
    "\n"
   ]
  },
  {
   "cell_type": "code",
   "execution_count": 6,
   "metadata": {
    "collapsed": false
   },
   "outputs": [
    {
     "name": "stdout",
     "output_type": "stream",
     "text": [
      "100673673673739088 [2, 2, 2, 2, 3, 13, 161336015502787]\n"
     ]
    }
   ],
   "source": [
    "main()\n"
   ]
  },
  {
   "cell_type": "markdown",
   "metadata": {},
   "source": [
    "# Profile example\n",
    "Now run the code with a profiler to see where the majority of the computer time.\n",
    "See the [https://julien.danjou.info/blog/2015/guide-to-python-profiling-cprofile-concrete-case-carbonara]\n",
    "(blog post)  for more information."
   ]
  },
  {
   "cell_type": "code",
   "execution_count": 7,
   "metadata": {
    "collapsed": false
   },
   "outputs": [
    {
     "name": "stdout",
     "output_type": "stream",
     "text": [
      "100673673673739088 [2, 2, 2, 2, 3, 13, 161336015502787]\n",
      "Mon Oct 17 09:54:09 2016    {}.profile\n",
      "\n",
      "         500066 function calls in 2.248 seconds\n",
      "\n",
      "   Ordered by: internal time\n",
      "   List reduced from 23 to 10 due to restriction <10>\n",
      "\n",
      "   ncalls  tottime  percall  cumtime  percall filename:lineno(function)\n",
      "        1    2.099    2.099    2.099    2.099 <ipython-input-3-34076ef13492>:1(fact)\n",
      "        1    0.108    0.108    0.149    0.149 <ipython-input-4-802d66192bd5>:4(count)\n",
      "   500003    0.036    0.000    0.036    0.000 {math.sqrt}\n",
      "        1    0.004    0.004    0.004    0.004 {range}\n",
      "        1    0.000    0.000    2.248    2.248 <ipython-input-5-c8c57d5f9e1a>:1(main)\n",
      "        4    0.000    0.000    0.000    0.000 iostream.py:308(write)\n",
      "        2    0.000    0.000    0.000    0.000 ioloop.py:928(add_callback)\n",
      "        2    0.000    0.000    0.000    0.000 {method 'write' of 'file' objects}\n",
      "        4    0.000    0.000    0.000    0.000 iostream.py:240(_schedule_flush)\n",
      "        4    0.000    0.000    0.000    0.000 {_codecs.utf_8_decode}\n",
      "\n",
      "\n"
     ]
    },
    {
     "data": {
      "text/plain": [
       "<pstats.Stats instance at 0x1051ee2d8>"
      ]
     },
     "execution_count": 7,
     "metadata": {},
     "output_type": "execute_result"
    }
   ],
   "source": [
    "import cProfile, pstats\n",
    "cProfile.run(\"main()\", \"{}.profile\")\n",
    "s = pstats.Stats(\"{}.profile\")\n",
    "s.strip_dirs()\n",
    "s.sort_stats(\"time\").print_stats(10)\n"
   ]
  },
  {
   "cell_type": "markdown",
   "metadata": {},
   "source": [
    "The profiling output shows the time spent in each function."
   ]
  },
  {
   "cell_type": "code",
   "execution_count": null,
   "metadata": {
    "collapsed": true
   },
   "outputs": [],
   "source": []
  }
 ],
 "metadata": {
  "anaconda-cloud": {},
  "kernelspec": {
   "display_name": "Python [Root]",
   "language": "python",
   "name": "Python [Root]"
  },
  "language_info": {
   "codemirror_mode": {
    "name": "ipython",
    "version": 2
   },
   "file_extension": ".py",
   "mimetype": "text/x-python",
   "name": "python",
   "nbconvert_exporter": "python",
   "pygments_lexer": "ipython2",
   "version": "2.7.12"
  }
 },
 "nbformat": 4,
 "nbformat_minor": 0
}
