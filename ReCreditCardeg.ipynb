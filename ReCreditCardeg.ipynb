{
 "cells": [
  {
   "cell_type": "markdown",
   "metadata": {},
   "source": [
    "# Basic examples on regular expressions"
   ]
  },
  {
   "cell_type": "markdown",
   "metadata": {},
   "source": [
    "Use the functions in the regular expressions module\n",
    "\n",
    "https://docs.python.org/2/library/re.html\n",
    "\n",
    "In this example we take a string with a name and credit card number colected together in the same string. The idea is to extract the name and credit card number."
   ]
  },
  {
   "cell_type": "code",
   "execution_count": 2,
   "metadata": {
    "collapsed": false
   },
   "outputs": [
    {
     "name": "stdout",
     "output_type": "stream",
     "text": [
      "CraigMcNeile0234-1234-5679-9810\n"
     ]
    }
   ],
   "source": [
    "import re\n",
    "\n",
    "Sa = \"CraigMcNeile0234-1234-5679-9810\"\n",
    "print Sa \n"
   ]
  },
  {
   "cell_type": "markdown",
   "metadata": {},
   "source": [
    "First extract the name from the string\n"
   ]
  },
  {
   "cell_type": "code",
   "execution_count": 3,
   "metadata": {
    "collapsed": false
   },
   "outputs": [
    {
     "name": "stdout",
     "output_type": "stream",
     "text": [
      "CraigMcNeile\n"
     ]
    }
   ],
   "source": [
    "# replace any digit (0-9) with the empty string\n",
    "SaM = re.sub(r'\\d', \"\" , Sa)\n",
    "\n",
    "# now replace - with nothing\n",
    "SaMM = re.sub(r'[-]*', '' ,   SaM) \n",
    "print SaMM\n"
   ]
  },
  {
   "cell_type": "code",
   "execution_count": 4,
   "metadata": {
    "collapsed": false
   },
   "outputs": [
    {
     "name": "stdout",
     "output_type": "stream",
     "text": [
      "0234-1234-5679-9810\n"
     ]
    }
   ],
   "source": [
    "# replace upper and lower case letters with the emtpy string\n",
    "SaJ = re.sub(r'[a-zA-Z]', \"\" , Sa)\n",
    "print SaJ\n"
   ]
  },
  {
   "cell_type": "code",
   "execution_count": null,
   "metadata": {
    "collapsed": true
   },
   "outputs": [],
   "source": []
  }
 ],
 "metadata": {
  "anaconda-cloud": {},
  "kernelspec": {
   "display_name": "Python [Root]",
   "language": "python",
   "name": "Python [Root]"
  },
  "language_info": {
   "codemirror_mode": {
    "name": "ipython",
    "version": 2
   },
   "file_extension": ".py",
   "mimetype": "text/x-python",
   "name": "python",
   "nbconvert_exporter": "python",
   "pygments_lexer": "ipython2",
   "version": "2.7.12"
  }
 },
 "nbformat": 4,
 "nbformat_minor": 0
}
