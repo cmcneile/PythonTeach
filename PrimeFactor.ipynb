{
 "cells": [
  {
   "cell_type": "markdown",
   "metadata": {},
   "source": [
    "# Factorise a number into primes\n",
    "Factorise a real number into a product of prime numbers\n",
    "This example was taken from:\n",
    "Computations in Number Theory Using Python: A Brief Introduction,\n",
    "by Jim Carlson. See [here](https://www.math.utah.edu/~carlson/notes/python.pdf)  for the paper.\n",
    "\n"
   ]
  },
  {
   "cell_type": "code",
   "execution_count": null,
   "metadata": {
    "collapsed": true
   },
   "outputs": [],
   "source": [
    "import sys\n",
    "from math import sqrt\n",
    "\n",
    "error = 'fact.error'        \n",
    "\n",
    "def fact(n):\n",
    "    if n < 1: raise error    \n",
    "    if n == 1: return []    \n",
    "    res = []\n",
    "    while n%2 == 0:\n",
    "        res.append(2)\n",
    "        n = n/2\n",
    "    limit = sqrt(float(n+1))\n",
    "    i = 3\n",
    "    while i <= limit:\n",
    "        if n%i == 0:\n",
    "            res.append(i)\n",
    "            n = n/i\n",
    "            limit = sqrt(n+1)\n",
    "        else:\n",
    "            i = i+2\n",
    "    if n != 1:\n",
    "        res.append(n)\n",
    "    return res\n"
   ]
  },
  {
   "cell_type": "markdown",
   "metadata": {},
   "source": [
    "Now call the function with some test data\n"
   ]
  },
  {
   "cell_type": "code",
   "execution_count": null,
   "metadata": {
    "collapsed": false
   },
   "outputs": [],
   "source": [
    "fact(10)"
   ]
  },
  {
   "cell_type": "code",
   "execution_count": null,
   "metadata": {
    "collapsed": false
   },
   "outputs": [],
   "source": [
    "fact(1010)"
   ]
  },
  {
   "cell_type": "markdown",
   "metadata": {},
   "source": [
    "Now test the error conditions"
   ]
  },
  {
   "cell_type": "code",
   "execution_count": null,
   "metadata": {
    "collapsed": false
   },
   "outputs": [],
   "source": [
    "fact(-5)"
   ]
  },
  {
   "cell_type": "code",
   "execution_count": null,
   "metadata": {
    "collapsed": true
   },
   "outputs": [],
   "source": []
  }
 ],
 "metadata": {
  "anaconda-cloud": {},
  "kernelspec": {
   "display_name": "Python [Root]",
   "language": "python",
   "name": "Python [Root]"
  },
  "language_info": {
   "codemirror_mode": {
    "name": "ipython",
    "version": 2
   },
   "file_extension": ".py",
   "mimetype": "text/x-python",
   "name": "python",
   "nbconvert_exporter": "python",
   "pygments_lexer": "ipython2",
   "version": "2.7.12"
  }
 },
 "nbformat": 4,
 "nbformat_minor": 0
}
