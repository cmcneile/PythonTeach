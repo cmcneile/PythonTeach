{
 "cells": [
  {
   "cell_type": "markdown",
   "metadata": {},
   "source": [
    "# The euler method\n",
    "\n",
    "We used this method to solve the equations for a bouncing ball\n",
    "\n",
    "For example we wish to solve an equation of the form:\n",
    "$$\n",
    "\\frac{dy}{dt} = f(t,y) \n",
    "$$\n",
    "for $y(t)$ as a function of $t$. We are given the complicated\n",
    "function $f(t,y) $.\n",
    "\n",
    "To solve this numerically we break time in little bundles of $h$ as was done in Jason and Tim's course last year.\n",
    "The time interval is now $h$ and $t_i$, where $i$ is an integer, is the time after $i * h $.\n",
    "\n",
    "$$\n",
    "t_i = h * i \n",
    "$$\n",
    "\n",
    "where i = 0, 1, 2, ...\n",
    "\n",
    "We can replace the derivative with a numerical derivative as was done in Jason and Tim's course last year.\n",
    "\n",
    "$$\n",
    "\\frac{dy} {dt} \\frac{\\approx y(t+h) - y(t)}{h}   +  O(h^2) \n",
    "$$\n",
    "\n",
    "So we can solve the top equation using\n",
    "\n",
    "$$\n",
    "y(t+h) = y(t) + h* f(t,y(t) )\n",
    "$$\n",
    "\n",
    "So by starting with an initial value on the right hand side of the above equation we can generate the $y(t)$ at future\n",
    "times by iterating. This is probably best explained by an example.\n",
    "\n",
    "* See https://en.wikipedia.org/wiki/Euler_method for further information\n"
   ]
  },
  {
   "cell_type": "markdown",
   "metadata": {},
   "source": [
    "# An example of the Euler method\n",
    "To explain the method I will look at a simple equation which we can solve\n",
    "\n",
    "$$\\frac{dy}{dt} = t^2 $$\n",
    "\n",
    "This can be solved \n",
    "\n",
    "$$ y = \\frac{t^3}{3} + A  $$\n",
    "where $A$ is an integration constant. I chose $y(0) = 0 $, hence $A=0$.\n",
    "\n",
    "So to solve the equation with Euler's method on the computer the following\n",
    "expression is iterated.\n",
    "\n",
    "$$\n",
    "y(t+h) = y(t) +  h * t^2\n",
    "$$\n",
    "\n",
    "See the code below.\n"
   ]
  },
  {
   "cell_type": "code",
   "execution_count": 13,
   "metadata": {
    "collapsed": false
   },
   "outputs": [
    {
     "name": "stdout",
     "output_type": "stream",
     "text": [
      "Start of the solution\n",
      "The step size =  0.01\n",
      "At t =  1.0  y =  0.32835  compared to the exact  0.333333333333\n"
     ]
    }
   ],
   "source": [
    "#  Basic example of solving an ordinary differntial equation using Euler's method\n",
    "#\n",
    "print (\"Start of the solution\" )\n",
    "tstart = 0.0\n",
    "tend   = 1.0\n",
    "\n",
    "# The number of steps\n",
    "# Increasing this number will make the solution more accurate.\n",
    "Nstep = 100\n",
    "\n",
    "h = (tend - tstart ) / Nstep\n",
    "\n",
    "print \"The step size = \" , h \n",
    "\n",
    "t = 0.0 \n",
    "y = 0.0 \n",
    "\n",
    "while t <= tend :\n",
    "   y = y + h*t*t    \n",
    "   t = t + h\n",
    "\n",
    "yexact = 1.0/3.0 \n",
    "print \"At t = \" , t , \" y = \" , y , ' compared to the exact ' , yexact\n",
    "\n",
    "\n"
   ]
  },
  {
   "cell_type": "markdown",
   "metadata": {
    "collapsed": true
   },
   "source": [
    "To get good accuracy requires a lot of small steps. It can be show that the global error depends on the stepsize $h$ as $O(h)$. So if you double the number of steps, then the error goes down by 1/2."
   ]
  },
  {
   "cell_type": "markdown",
   "metadata": {
    "collapsed": true
   },
   "source": [
    "# The mid point method\n",
    "\n",
    "Although Euler's method is easy to code, it would be better to have an algorithm which has a global error $O(h^2)$.\n",
    "\n",
    "For example we wish to solve an equation of the form:\n",
    "$$\n",
    "\\frac{dy}{dt} = f(t,y) \n",
    "$$\n",
    "for $y(t)$ as a function of $t$. We are given the complicated\n",
    "function $f(t,y) $.\n",
    "\n",
    "$$\n",
    "y(t+h) = y(t) + h * f( t + \\frac{h}{2} , y(t) + \\frac{h}{2} f(t,y(t))\n",
    "$$\n",
    "\n",
    "The equations are solved by iterating as for the Euler's method.\n",
    "\n",
    "The above equation can be proved by using a Taylor expansion.\n",
    "\n",
    "* https://en.wikipedia.org/wiki/Midpoint_method\n",
    "\n",
    "See the example below for an implemntation:\n"
   ]
  },
  {
   "cell_type": "code",
   "execution_count": 14,
   "metadata": {
    "collapsed": false
   },
   "outputs": [
    {
     "name": "stdout",
     "output_type": "stream",
     "text": [
      "Start of the solution by the midpoint method\n",
      "The step size =  0.01\n",
      "At t =  1.0  y =  0.333325  compared to the exact  0.333333333333\n"
     ]
    }
   ],
   "source": [
    "#  Basic example of solving an ordinary differntial equation using the midpoint method method\n",
    "#\n",
    "print (\"Start of the solution by the midpoint method\" )\n",
    "tstart = 0.0\n",
    "tend   = 1.0\n",
    "\n",
    "# The number of steps\n",
    "# Increasing this number will make the solution more accurate.\n",
    "Nstep = 100\n",
    "\n",
    "h = (tend - tstart ) / Nstep\n",
    "\n",
    "print \"The step size = \" , h \n",
    "\n",
    "t = 0.0 \n",
    "y = 0.0 \n",
    "\n",
    "while t <= tend :\n",
    "   th = t + h/2\n",
    "   y = y + h*th*th    \n",
    "   t = t + h\n",
    "\n",
    "yexact = 1.0/3.0 \n",
    "print \"At t = \" , t , \" y = \" , y , ' compared to the exact ' , yexact\n"
   ]
  },
  {
   "cell_type": "markdown",
   "metadata": {},
   "source": [
    "The global error of the midpoint algorithm is  $O(h^2)$ so the error reduces much quicker than for Euler's method as\n",
    "the stepsize $h$ is reduced. "
   ]
  },
  {
   "cell_type": "code",
   "execution_count": null,
   "metadata": {
    "collapsed": true
   },
   "outputs": [],
   "source": []
  }
 ],
 "metadata": {
  "anaconda-cloud": {},
  "kernelspec": {
   "display_name": "Python [Root]",
   "language": "python",
   "name": "Python [Root]"
  },
  "language_info": {
   "codemirror_mode": {
    "name": "ipython",
    "version": 2
   },
   "file_extension": ".py",
   "mimetype": "text/x-python",
   "name": "python",
   "nbconvert_exporter": "python",
   "pygments_lexer": "ipython2",
   "version": "2.7.12"
  }
 },
 "nbformat": 4,
 "nbformat_minor": 0
}
